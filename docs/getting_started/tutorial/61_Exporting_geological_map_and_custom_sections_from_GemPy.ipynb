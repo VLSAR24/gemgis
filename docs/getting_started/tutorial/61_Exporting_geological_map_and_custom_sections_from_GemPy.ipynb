{
 "cells": [
  {
   "cell_type": "markdown",
   "id": "f94284f8",
   "metadata": {},
   "source": [
    "# 61 Exporting Geological Maps and Custom sections from GemPy"
   ]
  },
  {
   "cell_type": "markdown",
   "id": "1dbca8b4",
   "metadata": {},
   "source": [
    "## Set File Paths and download Tutorial Data\n",
    "\n",
    "If you downloaded the latest `GemGIS` version from the Github repository, append the path so that the package can be imported successfully. Otherwise, it is recommended to install `GemGIS` via `pip install gemgis` and import `GemGIS` using `import gemgis as gg`. In addition, the file path to the folder where the data is being stored is set. The tutorial data is downloaded using Pooch (https://www.fatiando.org/pooch/latest/index.html) and stored in the specified folder. Use `pip install pooch` if Pooch is not installed on your system yet."
   ]
  },
  {
   "cell_type": "code",
   "execution_count": 1,
   "id": "79d0d3e9",
   "metadata": {
    "ExecuteTime": {
     "end_time": "2023-04-05T11:49:18.924671Z",
     "start_time": "2023-04-05T11:49:14.195183Z"
    }
   },
   "outputs": [
    {
     "name": "stderr",
     "output_type": "stream",
     "text": [
      "C:\\Users\\ale93371\\Anaconda3\\envs\\gempy_new8\\lib\\site-packages\\gemgis\\gemgis.py:27: UserWarning: Shapely 2.0 is installed, but because PyGEOS is also installed, GeoPandas will still use PyGEOS by default for now. To force to use and test Shapely 2.0, you have to set the environment variable USE_PYGEOS=0. You can do this before starting the Python process, or in your code before importing geopandas:\n",
      "\n",
      "import os\n",
      "os.environ['USE_PYGEOS'] = '0'\n",
      "import geopandas\n",
      "\n",
      "In a future release, GeoPandas will switch to using Shapely by default. If you are using PyGEOS directly (calling PyGEOS functions on geometries from GeoPandas), this will then stop working and you are encouraged to migrate from PyGEOS to Shapely 2.0 (https://shapely.readthedocs.io/en/latest/migration_pygeos.html).\n",
      "  import geopandas as gpd\n"
     ]
    }
   ],
   "source": [
    "import gemgis as gg\n",
    "\n",
    "file_path ='data/61_Exporting_geological_map_and_custom_sections_from_GemPy/'\n",
    "gg.download_gemgis_data.download_tutorial_data(filename=\"61_Exporting_geological_map_and_custom_sections_from_GemPy.zip\", dirpath=file_path)"
   ]
  },
  {
   "cell_type": "markdown",
   "id": "73d7f238",
   "metadata": {},
   "source": [
    "## Loading the data"
   ]
  },
  {
   "cell_type": "code",
   "execution_count": 2,
   "id": "9746fd39",
   "metadata": {
    "ExecuteTime": {
     "end_time": "2023-04-05T11:49:18.932673Z",
     "start_time": "2023-04-05T11:49:18.932673Z"
    }
   },
   "outputs": [],
   "source": [
    "import geopandas as gpd\n",
    "import rasterio\n",
    "\n",
    "interfaces = gpd.read_file(file_path + 'interfaces.shp')\n",
    "orientations = gpd.read_file(file_path + 'orientations.shp')\n",
    "extent = [0,972,0,1069, 300, 800]\n",
    "resolution = [50, 50, 50]"
   ]
  },
  {
   "cell_type": "code",
   "execution_count": 3,
   "id": "66e32104",
   "metadata": {
    "ExecuteTime": {
     "end_time": "2023-04-05T11:49:18.934674Z",
     "start_time": "2023-04-05T11:49:18.934674Z"
    }
   },
   "outputs": [
    {
     "data": {
      "text/html": [
       "<div>\n",
       "<style scoped>\n",
       "    .dataframe tbody tr th:only-of-type {\n",
       "        vertical-align: middle;\n",
       "    }\n",
       "\n",
       "    .dataframe tbody tr th {\n",
       "        vertical-align: top;\n",
       "    }\n",
       "\n",
       "    .dataframe thead th {\n",
       "        text-align: right;\n",
       "    }\n",
       "</style>\n",
       "<table border=\"1\" class=\"dataframe\">\n",
       "  <thead>\n",
       "    <tr style=\"text-align: right;\">\n",
       "      <th></th>\n",
       "      <th>level_0</th>\n",
       "      <th>level_1</th>\n",
       "      <th>formation</th>\n",
       "      <th>X</th>\n",
       "      <th>Y</th>\n",
       "      <th>Z</th>\n",
       "      <th>geometry</th>\n",
       "    </tr>\n",
       "  </thead>\n",
       "  <tbody>\n",
       "    <tr>\n",
       "      <th>0</th>\n",
       "      <td>0</td>\n",
       "      <td>0</td>\n",
       "      <td>Sand1</td>\n",
       "      <td>0.26</td>\n",
       "      <td>264.86</td>\n",
       "      <td>353.97</td>\n",
       "      <td>POINT (0.25633 264.86215)</td>\n",
       "    </tr>\n",
       "    <tr>\n",
       "      <th>1</th>\n",
       "      <td>0</td>\n",
       "      <td>0</td>\n",
       "      <td>Sand1</td>\n",
       "      <td>10.59</td>\n",
       "      <td>276.73</td>\n",
       "      <td>359.04</td>\n",
       "      <td>POINT (10.59347 276.73371)</td>\n",
       "    </tr>\n",
       "    <tr>\n",
       "      <th>2</th>\n",
       "      <td>0</td>\n",
       "      <td>0</td>\n",
       "      <td>Sand1</td>\n",
       "      <td>17.13</td>\n",
       "      <td>289.09</td>\n",
       "      <td>364.28</td>\n",
       "      <td>POINT (17.13494 289.08982)</td>\n",
       "    </tr>\n",
       "    <tr>\n",
       "      <th>3</th>\n",
       "      <td>0</td>\n",
       "      <td>0</td>\n",
       "      <td>Sand1</td>\n",
       "      <td>19.15</td>\n",
       "      <td>293.31</td>\n",
       "      <td>364.99</td>\n",
       "      <td>POINT (19.15013 293.31349)</td>\n",
       "    </tr>\n",
       "    <tr>\n",
       "      <th>4</th>\n",
       "      <td>0</td>\n",
       "      <td>0</td>\n",
       "      <td>Sand1</td>\n",
       "      <td>27.80</td>\n",
       "      <td>310.57</td>\n",
       "      <td>372.81</td>\n",
       "      <td>POINT (27.79512 310.57169)</td>\n",
       "    </tr>\n",
       "  </tbody>\n",
       "</table>\n",
       "</div>"
      ],
      "text/plain": [
       "   level_0  level_1 formation     X      Y      Z                    geometry\n",
       "0        0        0     Sand1  0.26 264.86 353.97   POINT (0.25633 264.86215)\n",
       "1        0        0     Sand1 10.59 276.73 359.04  POINT (10.59347 276.73371)\n",
       "2        0        0     Sand1 17.13 289.09 364.28  POINT (17.13494 289.08982)\n",
       "3        0        0     Sand1 19.15 293.31 364.99  POINT (19.15013 293.31349)\n",
       "4        0        0     Sand1 27.80 310.57 372.81  POINT (27.79512 310.57169)"
      ]
     },
     "execution_count": 3,
     "metadata": {},
     "output_type": "execute_result"
    }
   ],
   "source": [
    "interfaces.head()"
   ]
  },
  {
   "cell_type": "code",
   "execution_count": 4,
   "id": "5353e39f",
   "metadata": {
    "ExecuteTime": {
     "end_time": "2023-04-05T11:49:18.936674Z",
     "start_time": "2023-04-05T11:49:18.936674Z"
    }
   },
   "outputs": [
    {
     "data": {
      "text/html": [
       "<div>\n",
       "<style scoped>\n",
       "    .dataframe tbody tr th:only-of-type {\n",
       "        vertical-align: middle;\n",
       "    }\n",
       "\n",
       "    .dataframe tbody tr th {\n",
       "        vertical-align: top;\n",
       "    }\n",
       "\n",
       "    .dataframe thead th {\n",
       "        text-align: right;\n",
       "    }\n",
       "</style>\n",
       "<table border=\"1\" class=\"dataframe\">\n",
       "  <thead>\n",
       "    <tr style=\"text-align: right;\">\n",
       "      <th></th>\n",
       "      <th>formation</th>\n",
       "      <th>dip</th>\n",
       "      <th>azimuth</th>\n",
       "      <th>X</th>\n",
       "      <th>Y</th>\n",
       "      <th>Z</th>\n",
       "      <th>geometry</th>\n",
       "      <th>polarity</th>\n",
       "    </tr>\n",
       "  </thead>\n",
       "  <tbody>\n",
       "    <tr>\n",
       "      <th>0</th>\n",
       "      <td>Ton</td>\n",
       "      <td>30.50</td>\n",
       "      <td>180.00</td>\n",
       "      <td>96.47</td>\n",
       "      <td>451.56</td>\n",
       "      <td>477.73</td>\n",
       "      <td>POINT (96.47104 451.56362)</td>\n",
       "      <td>1</td>\n",
       "    </tr>\n",
       "    <tr>\n",
       "      <th>1</th>\n",
       "      <td>Ton</td>\n",
       "      <td>30.50</td>\n",
       "      <td>180.00</td>\n",
       "      <td>172.76</td>\n",
       "      <td>661.88</td>\n",
       "      <td>481.73</td>\n",
       "      <td>POINT (172.76101 661.87650)</td>\n",
       "      <td>1</td>\n",
       "    </tr>\n",
       "    <tr>\n",
       "      <th>2</th>\n",
       "      <td>Ton</td>\n",
       "      <td>30.50</td>\n",
       "      <td>180.00</td>\n",
       "      <td>383.07</td>\n",
       "      <td>957.76</td>\n",
       "      <td>444.45</td>\n",
       "      <td>POINT (383.07389 957.75787)</td>\n",
       "      <td>1</td>\n",
       "    </tr>\n",
       "    <tr>\n",
       "      <th>3</th>\n",
       "      <td>Ton</td>\n",
       "      <td>30.50</td>\n",
       "      <td>180.00</td>\n",
       "      <td>592.36</td>\n",
       "      <td>722.70</td>\n",
       "      <td>480.57</td>\n",
       "      <td>POINT (592.35583 722.70229)</td>\n",
       "      <td>1</td>\n",
       "    </tr>\n",
       "    <tr>\n",
       "      <th>4</th>\n",
       "      <td>Ton</td>\n",
       "      <td>30.50</td>\n",
       "      <td>180.00</td>\n",
       "      <td>766.59</td>\n",
       "      <td>348.47</td>\n",
       "      <td>498.96</td>\n",
       "      <td>POINT (766.58562 348.46907)</td>\n",
       "      <td>1</td>\n",
       "    </tr>\n",
       "  </tbody>\n",
       "</table>\n",
       "</div>"
      ],
      "text/plain": [
       "  formation   dip  azimuth      X      Y      Z                     geometry  \\\n",
       "0       Ton 30.50   180.00  96.47 451.56 477.73   POINT (96.47104 451.56362)   \n",
       "1       Ton 30.50   180.00 172.76 661.88 481.73  POINT (172.76101 661.87650)   \n",
       "2       Ton 30.50   180.00 383.07 957.76 444.45  POINT (383.07389 957.75787)   \n",
       "3       Ton 30.50   180.00 592.36 722.70 480.57  POINT (592.35583 722.70229)   \n",
       "4       Ton 30.50   180.00 766.59 348.47 498.96  POINT (766.58562 348.46907)   \n",
       "\n",
       "   polarity  \n",
       "0         1  \n",
       "1         1  \n",
       "2         1  \n",
       "3         1  \n",
       "4         1  "
      ]
     },
     "execution_count": 4,
     "metadata": {},
     "output_type": "execute_result"
    }
   ],
   "source": [
    "orientations['polarity'] = 1\n",
    "orientations.head()"
   ]
  },
  {
   "cell_type": "markdown",
   "id": "10735419",
   "metadata": {},
   "source": [
    "## Creating the GemPy Model"
   ]
  },
  {
   "cell_type": "code",
   "execution_count": 5,
   "id": "62c5938e",
   "metadata": {
    "ExecuteTime": {
     "end_time": "2023-04-05T11:49:18.938674Z",
     "start_time": "2023-04-05T11:49:18.938674Z"
    }
   },
   "outputs": [
    {
     "name": "stderr",
     "output_type": "stream",
     "text": [
      "WARNING (theano.configdefaults): g++ not available, if using conda: `conda install m2w64-toolchain`\n",
      "C:\\Users\\ale93371\\Anaconda3\\envs\\gempy_new8\\lib\\site-packages\\theano\\configdefaults.py:560: UserWarning: DeprecationWarning: there is no c++ compiler.This is deprecated and with Theano 0.11 a c++ compiler will be mandatory\n",
      "  warnings.warn(\"DeprecationWarning: there is no c++ compiler.\"\n",
      "WARNING (theano.configdefaults): g++ not detected ! Theano will be unable to execute optimized C-implementations (for both CPU and GPU) and will default to Python implementations. Performance will be severely degraded. To remove this warning, set Theano flags cxx to an empty string.\n",
      "WARNING (theano.configdefaults): install mkl with `conda install mkl-service`: No module named 'mkl'\n",
      "WARNING (theano.tensor.blas): Using NumPy C-API based implementation for BLAS functions.\n"
     ]
    }
   ],
   "source": [
    "import gempy as gp"
   ]
  },
  {
   "cell_type": "code",
   "execution_count": 6,
   "id": "26d1e865",
   "metadata": {
    "ExecuteTime": {
     "end_time": "2023-04-05T11:49:18.940675Z",
     "start_time": "2023-04-05T11:49:18.940675Z"
    }
   },
   "outputs": [
    {
     "data": {
      "text/plain": [
       "Model1  2023-04-05 13:54"
      ]
     },
     "execution_count": 6,
     "metadata": {},
     "output_type": "execute_result"
    }
   ],
   "source": [
    "geo_model = gp.create_model('Model1')\n",
    "geo_model"
   ]
  },
  {
   "cell_type": "markdown",
   "id": "542cec0b",
   "metadata": {},
   "source": [
    "### Initiating the Model"
   ]
  },
  {
   "cell_type": "code",
   "execution_count": 7,
   "id": "ee196196",
   "metadata": {
    "ExecuteTime": {
     "end_time": "2023-04-05T11:49:18.942676Z",
     "start_time": "2023-04-05T11:49:18.942676Z"
    }
   },
   "outputs": [
    {
     "name": "stdout",
     "output_type": "stream",
     "text": [
      "Active grids: ['regular']\n"
     ]
    },
    {
     "data": {
      "text/html": [
       "<style type=\"text/css\">\n",
       "#T_cce09_row0_col3 {\n",
       "  background-color: #015482;\n",
       "}\n",
       "#T_cce09_row1_col3 {\n",
       "  background-color: #9f0052;\n",
       "}\n",
       "</style>\n",
       "<table id=\"T_cce09_\">\n",
       "  <thead>\n",
       "    <tr>\n",
       "      <th class=\"blank level0\" >&nbsp;</th>\n",
       "      <th class=\"col_heading level0 col0\" >surface</th>\n",
       "      <th class=\"col_heading level0 col1\" >series</th>\n",
       "      <th class=\"col_heading level0 col2\" >order_surfaces</th>\n",
       "      <th class=\"col_heading level0 col3\" >color</th>\n",
       "      <th class=\"col_heading level0 col4\" >id</th>\n",
       "    </tr>\n",
       "  </thead>\n",
       "  <tbody>\n",
       "    <tr>\n",
       "      <th id=\"T_cce09_level0_row0\" class=\"row_heading level0 row0\" >0</th>\n",
       "      <td id=\"T_cce09_row0_col0\" class=\"data row0 col0\" >Sand1</td>\n",
       "      <td id=\"T_cce09_row0_col1\" class=\"data row0 col1\" >Default series</td>\n",
       "      <td id=\"T_cce09_row0_col2\" class=\"data row0 col2\" >1</td>\n",
       "      <td id=\"T_cce09_row0_col3\" class=\"data row0 col3\" >#015482</td>\n",
       "      <td id=\"T_cce09_row0_col4\" class=\"data row0 col4\" >1</td>\n",
       "    </tr>\n",
       "    <tr>\n",
       "      <th id=\"T_cce09_level0_row1\" class=\"row_heading level0 row1\" >1</th>\n",
       "      <td id=\"T_cce09_row1_col0\" class=\"data row1 col0\" >Ton</td>\n",
       "      <td id=\"T_cce09_row1_col1\" class=\"data row1 col1\" >Default series</td>\n",
       "      <td id=\"T_cce09_row1_col2\" class=\"data row1 col2\" >2</td>\n",
       "      <td id=\"T_cce09_row1_col3\" class=\"data row1 col3\" >#9f0052</td>\n",
       "      <td id=\"T_cce09_row1_col4\" class=\"data row1 col4\" >2</td>\n",
       "    </tr>\n",
       "  </tbody>\n",
       "</table>\n"
      ],
      "text/plain": [
       "  surface          series  order_surfaces    color  id\n",
       "0   Sand1  Default series               1  #015482   1\n",
       "1     Ton  Default series               2  #9f0052   2"
      ]
     },
     "execution_count": 7,
     "metadata": {},
     "output_type": "execute_result"
    }
   ],
   "source": [
    "import pandas as pd\n",
    "\n",
    "gp.init_data(geo_model, extent, resolution,\n",
    "             surface_points_df = interfaces,\n",
    "             orientations_df = orientations,\n",
    "             default_values=True)\n",
    "geo_model.surfaces"
   ]
  },
  {
   "cell_type": "markdown",
   "id": "c5b408e8",
   "metadata": {},
   "source": [
    "The vertices and edges are currently NaN values, so no model has been computed so far."
   ]
  },
  {
   "cell_type": "code",
   "execution_count": 8,
   "id": "0c1fe249",
   "metadata": {
    "ExecuteTime": {
     "end_time": "2023-04-05T11:49:18.945677Z",
     "start_time": "2023-04-05T11:49:18.945677Z"
    }
   },
   "outputs": [
    {
     "data": {
      "text/html": [
       "<div>\n",
       "<style scoped>\n",
       "    .dataframe tbody tr th:only-of-type {\n",
       "        vertical-align: middle;\n",
       "    }\n",
       "\n",
       "    .dataframe tbody tr th {\n",
       "        vertical-align: top;\n",
       "    }\n",
       "\n",
       "    .dataframe thead th {\n",
       "        text-align: right;\n",
       "    }\n",
       "</style>\n",
       "<table border=\"1\" class=\"dataframe\">\n",
       "  <thead>\n",
       "    <tr style=\"text-align: right;\">\n",
       "      <th></th>\n",
       "      <th>surface</th>\n",
       "      <th>series</th>\n",
       "      <th>order_surfaces</th>\n",
       "      <th>isBasement</th>\n",
       "      <th>isFault</th>\n",
       "      <th>isActive</th>\n",
       "      <th>hasData</th>\n",
       "      <th>color</th>\n",
       "      <th>vertices</th>\n",
       "      <th>edges</th>\n",
       "      <th>sfai</th>\n",
       "      <th>id</th>\n",
       "    </tr>\n",
       "  </thead>\n",
       "  <tbody>\n",
       "    <tr>\n",
       "      <th>0</th>\n",
       "      <td>Sand1</td>\n",
       "      <td>Default series</td>\n",
       "      <td>1</td>\n",
       "      <td>False</td>\n",
       "      <td>False</td>\n",
       "      <td>True</td>\n",
       "      <td>True</td>\n",
       "      <td>#015482</td>\n",
       "      <td>NaN</td>\n",
       "      <td>NaN</td>\n",
       "      <td>NaN</td>\n",
       "      <td>1</td>\n",
       "    </tr>\n",
       "    <tr>\n",
       "      <th>1</th>\n",
       "      <td>Ton</td>\n",
       "      <td>Default series</td>\n",
       "      <td>2</td>\n",
       "      <td>True</td>\n",
       "      <td>False</td>\n",
       "      <td>True</td>\n",
       "      <td>True</td>\n",
       "      <td>#9f0052</td>\n",
       "      <td>NaN</td>\n",
       "      <td>NaN</td>\n",
       "      <td>NaN</td>\n",
       "      <td>2</td>\n",
       "    </tr>\n",
       "  </tbody>\n",
       "</table>\n",
       "</div>"
      ],
      "text/plain": [
       "  surface          series  order_surfaces  isBasement isFault  isActive  \\\n",
       "0   Sand1  Default series               1       False   False      True   \n",
       "1     Ton  Default series               2        True   False      True   \n",
       "\n",
       "   hasData    color vertices edges sfai  id  \n",
       "0     True  #015482      NaN   NaN  NaN   1  \n",
       "1     True  #9f0052      NaN   NaN  NaN   2  "
      ]
     },
     "execution_count": 8,
     "metadata": {},
     "output_type": "execute_result"
    }
   ],
   "source": [
    "geo_model.surfaces.df"
   ]
  },
  {
   "cell_type": "markdown",
   "id": "80950c0d",
   "metadata": {
    "ExecuteTime": {
     "end_time": "2023-03-01T12:58:53.064490Z",
     "start_time": "2023-03-01T12:58:53.059434Z"
    }
   },
   "source": [
    "### Mapping Stack to Surfaces"
   ]
  },
  {
   "cell_type": "code",
   "execution_count": 9,
   "id": "6e4026c8",
   "metadata": {
    "ExecuteTime": {
     "end_time": "2023-04-05T11:49:18.947676Z",
     "start_time": "2023-04-05T11:49:18.947676Z"
    }
   },
   "outputs": [
    {
     "data": {
      "text/html": [
       "<style type=\"text/css\">\n",
       "#T_14cb0_row0_col3 {\n",
       "  background-color: #015482;\n",
       "}\n",
       "#T_14cb0_row1_col3 {\n",
       "  background-color: #9f0052;\n",
       "}\n",
       "#T_14cb0_row2_col3 {\n",
       "  background-color: #ffbe00;\n",
       "}\n",
       "</style>\n",
       "<table id=\"T_14cb0_\">\n",
       "  <thead>\n",
       "    <tr>\n",
       "      <th class=\"blank level0\" >&nbsp;</th>\n",
       "      <th class=\"col_heading level0 col0\" >surface</th>\n",
       "      <th class=\"col_heading level0 col1\" >series</th>\n",
       "      <th class=\"col_heading level0 col2\" >order_surfaces</th>\n",
       "      <th class=\"col_heading level0 col3\" >color</th>\n",
       "      <th class=\"col_heading level0 col4\" >id</th>\n",
       "    </tr>\n",
       "  </thead>\n",
       "  <tbody>\n",
       "    <tr>\n",
       "      <th id=\"T_14cb0_level0_row0\" class=\"row_heading level0 row0\" >0</th>\n",
       "      <td id=\"T_14cb0_row0_col0\" class=\"data row0 col0\" >Sand1</td>\n",
       "      <td id=\"T_14cb0_row0_col1\" class=\"data row0 col1\" >Strat_Series</td>\n",
       "      <td id=\"T_14cb0_row0_col2\" class=\"data row0 col2\" >1</td>\n",
       "      <td id=\"T_14cb0_row0_col3\" class=\"data row0 col3\" >#015482</td>\n",
       "      <td id=\"T_14cb0_row0_col4\" class=\"data row0 col4\" >1</td>\n",
       "    </tr>\n",
       "    <tr>\n",
       "      <th id=\"T_14cb0_level0_row1\" class=\"row_heading level0 row1\" >1</th>\n",
       "      <td id=\"T_14cb0_row1_col0\" class=\"data row1 col0\" >Ton</td>\n",
       "      <td id=\"T_14cb0_row1_col1\" class=\"data row1 col1\" >Strat_Series</td>\n",
       "      <td id=\"T_14cb0_row1_col2\" class=\"data row1 col2\" >2</td>\n",
       "      <td id=\"T_14cb0_row1_col3\" class=\"data row1 col3\" >#9f0052</td>\n",
       "      <td id=\"T_14cb0_row1_col4\" class=\"data row1 col4\" >2</td>\n",
       "    </tr>\n",
       "    <tr>\n",
       "      <th id=\"T_14cb0_level0_row2\" class=\"row_heading level0 row2\" >2</th>\n",
       "      <td id=\"T_14cb0_row2_col0\" class=\"data row2 col0\" >basement</td>\n",
       "      <td id=\"T_14cb0_row2_col1\" class=\"data row2 col1\" >Strat_Series</td>\n",
       "      <td id=\"T_14cb0_row2_col2\" class=\"data row2 col2\" >3</td>\n",
       "      <td id=\"T_14cb0_row2_col3\" class=\"data row2 col3\" >#ffbe00</td>\n",
       "      <td id=\"T_14cb0_row2_col4\" class=\"data row2 col4\" >3</td>\n",
       "    </tr>\n",
       "  </tbody>\n",
       "</table>\n"
      ],
      "text/plain": [
       "    surface        series  order_surfaces    color  id\n",
       "0     Sand1  Strat_Series               1  #015482   1\n",
       "1       Ton  Strat_Series               2  #9f0052   2\n",
       "2  basement  Strat_Series               3  #ffbe00   3"
      ]
     },
     "execution_count": 9,
     "metadata": {},
     "output_type": "execute_result"
    }
   ],
   "source": [
    "gp.map_stack_to_surfaces(geo_model,\n",
    "                         {\"Strat_Series\": ('Sand1', 'Ton')},\n",
    "                         remove_unused_series=True)\n",
    "geo_model.add_surfaces('basement')"
   ]
  },
  {
   "cell_type": "markdown",
   "id": "6cadaec7",
   "metadata": {},
   "source": [
    "### Loading the Topography"
   ]
  },
  {
   "cell_type": "code",
   "execution_count": 10,
   "id": "93e083b4",
   "metadata": {
    "ExecuteTime": {
     "end_time": "2023-04-05T11:49:18.949677Z",
     "start_time": "2023-04-05T11:49:18.949677Z"
    }
   },
   "outputs": [
    {
     "name": "stdout",
     "output_type": "stream",
     "text": [
      "Cropped raster to geo_model.grid.extent.\n",
      "depending on the size of the raster, this can take a while...\n",
      "storing converted file...\n",
      "Active grids: ['regular' 'topography']\n"
     ]
    },
    {
     "data": {
      "text/plain": [
       "Grid Object. Values: \n",
       "array([[   9.72      ,   10.69      ,  305.        ],\n",
       "       [   9.72      ,   10.69      ,  315.        ],\n",
       "       [   9.72      ,   10.69      ,  325.        ],\n",
       "       ...,\n",
       "       [ 970.056     , 1059.28181818,  622.0892334 ],\n",
       "       [ 970.056     , 1063.16909091,  622.06713867],\n",
       "       [ 970.056     , 1067.05636364,  622.05786133]])"
      ]
     },
     "execution_count": 10,
     "metadata": {},
     "output_type": "execute_result"
    }
   ],
   "source": [
    "geo_model.set_topography(\n",
    "    source='gdal', filepath='data/61_Exporting_geological_map_and_custom_sections_from_GemPy/raster1.tif')"
   ]
  },
  {
   "cell_type": "markdown",
   "id": "ab37577e",
   "metadata": {},
   "source": [
    "### Defining Custom Section"
   ]
  },
  {
   "cell_type": "code",
   "execution_count": 11,
   "id": "69e789d1",
   "metadata": {
    "ExecuteTime": {
     "end_time": "2023-04-05T11:49:18.952681Z",
     "start_time": "2023-04-05T11:49:18.952681Z"
    }
   },
   "outputs": [
    {
     "name": "stdout",
     "output_type": "stream",
     "text": [
      "Active grids: ['regular' 'topography' 'sections']\n"
     ]
    },
    {
     "data": {
      "text/html": [
       "<table border=\"1\" class=\"dataframe\">\n",
       "  <thead>\n",
       "    <tr style=\"text-align: right;\">\n",
       "      <th></th>\n",
       "      <th>start</th>\n",
       "      <th>stop</th>\n",
       "      <th>resolution</th>\n",
       "      <th>dist</th>\n",
       "    </tr>\n",
       "  </thead>\n",
       "  <tbody>\n",
       "    <tr>\n",
       "      <th>Section1</th>\n",
       "      <td>[1.372395262185787, 383.9794474025771]</td>\n",
       "      <td>[970.9954955186289, 383.8831909730347]</td>\n",
       "      <td>[100, 80]</td>\n",
       "      <td>969.62</td>\n",
       "    </tr>\n",
       "  </tbody>\n",
       "</table>"
      ],
      "text/plain": [
       "                                           start                                    stop resolution   dist\n",
       "Section1  [1.372395262185787, 383.9794474025771]  [970.9954955186289, 383.8831909730347]  [100, 80] 969.62"
      ]
     },
     "execution_count": 11,
     "metadata": {},
     "output_type": "execute_result"
    }
   ],
   "source": [
    "custom_section = gpd.read_file(file_path + 'customsections1.shp')\n",
    "custom_section_dict = gg.utils.to_section_dict(custom_section, section_column='section')\n",
    "geo_model.set_section_grid(custom_section_dict)"
   ]
  },
  {
   "cell_type": "code",
   "execution_count": 12,
   "id": "d5c10459",
   "metadata": {
    "ExecuteTime": {
     "end_time": "2023-04-05T11:49:18.954681Z",
     "start_time": "2023-04-05T11:49:18.954681Z"
    }
   },
   "outputs": [
    {
     "data": {
      "text/plain": [
       "<gempy.plot.visualization_2d.Plot2D at 0x27149537e80>"
      ]
     },
     "execution_count": 12,
     "metadata": {},
     "output_type": "execute_result"
    },
    {
     "data": {
      "image/png": "[encoded data removed]",
      "text/plain": [
       "<Figure size 1040x715 with 1 Axes>"
      ]
     },
     "metadata": {},
     "output_type": "display_data"
    }
   ],
   "source": [
    "gp.plot.plot_section_traces(geo_model)"
   ]
  },
  {
   "cell_type": "markdown",
   "id": "329fe9a9",
   "metadata": {},
   "source": [
    "### Setting Interpolator"
   ]
  },
  {
   "cell_type": "code",
   "execution_count": 13,
   "id": "9706ba8e",
   "metadata": {
    "ExecuteTime": {
     "end_time": "2023-04-05T11:49:18.956681Z",
     "start_time": "2023-04-05T11:49:18.956681Z"
    }
   },
   "outputs": [
    {
     "name": "stdout",
     "output_type": "stream",
     "text": [
      "Compiling theano function...\n",
      "Level of Optimization:  fast_compile\n",
      "Device:  cpu\n",
      "Precision:  float64\n",
      "Number of faults:  0\n",
      "Compilation Done!\n",
      "Kriging values: \n",
      "                   values\n",
      "range            1528.90\n",
      "$C_o$           55655.83\n",
      "drift equations      [3]\n"
     ]
    },
    {
     "data": {
      "text/plain": [
       "<gempy.core.interpolator.InterpolatorModel at 0x27149537880>"
      ]
     },
     "execution_count": 13,
     "metadata": {},
     "output_type": "execute_result"
    }
   ],
   "source": [
    "gp.set_interpolator(geo_model,\n",
    "                    compile_theano=True,\n",
    "                    theano_optimizer='fast_compile',\n",
    "                    verbose=[],\n",
    "                    update_kriging = False\n",
    "                    )"
   ]
  },
  {
   "cell_type": "markdown",
   "id": "65be85d0",
   "metadata": {},
   "source": [
    "### Computing Model"
   ]
  },
  {
   "cell_type": "code",
   "execution_count": 14,
   "id": "9a13a715",
   "metadata": {
    "ExecuteTime": {
     "end_time": "2023-04-05T11:49:18.958682Z",
     "start_time": "2023-04-05T11:49:18.958682Z"
    }
   },
   "outputs": [],
   "source": [
    "sol = gp.compute_model(geo_model, compute_mesh=True)"
   ]
  },
  {
   "cell_type": "markdown",
   "id": "3fb97440",
   "metadata": {},
   "source": [
    "The surfaces DataFrame now contains values for vertices and edges."
   ]
  },
  {
   "cell_type": "code",
   "execution_count": 15,
   "id": "7c13c085",
   "metadata": {
    "ExecuteTime": {
     "end_time": "2023-04-05T11:49:18.960679Z",
     "start_time": "2023-04-05T11:49:18.960679Z"
    }
   },
   "outputs": [
    {
     "data": {
      "text/html": [
       "<div>\n",
       "<style scoped>\n",
       "    .dataframe tbody tr th:only-of-type {\n",
       "        vertical-align: middle;\n",
       "    }\n",
       "\n",
       "    .dataframe tbody tr th {\n",
       "        vertical-align: top;\n",
       "    }\n",
       "\n",
       "    .dataframe thead th {\n",
       "        text-align: right;\n",
       "    }\n",
       "</style>\n",
       "<table border=\"1\" class=\"dataframe\">\n",
       "  <thead>\n",
       "    <tr style=\"text-align: right;\">\n",
       "      <th></th>\n",
       "      <th>surface</th>\n",
       "      <th>series</th>\n",
       "      <th>order_surfaces</th>\n",
       "      <th>isBasement</th>\n",
       "      <th>isFault</th>\n",
       "      <th>isActive</th>\n",
       "      <th>hasData</th>\n",
       "      <th>color</th>\n",
       "      <th>vertices</th>\n",
       "      <th>edges</th>\n",
       "      <th>sfai</th>\n",
       "      <th>id</th>\n",
       "    </tr>\n",
       "  </thead>\n",
       "  <tbody>\n",
       "    <tr>\n",
       "      <th>0</th>\n",
       "      <td>Sand1</td>\n",
       "      <td>Strat_Series</td>\n",
       "      <td>1</td>\n",
       "      <td>False</td>\n",
       "      <td>False</td>\n",
       "      <td>True</td>\n",
       "      <td>True</td>\n",
       "      <td>#015482</td>\n",
       "      <td>[[29.160000000000004, 194.27877317428587, 305....</td>\n",
       "      <td>[[2, 1, 0], [2, 0, 3], [3, 4, 2], [2, 4, 5], [...</td>\n",
       "      <td>0.26</td>\n",
       "      <td>1</td>\n",
       "    </tr>\n",
       "    <tr>\n",
       "      <th>1</th>\n",
       "      <td>Ton</td>\n",
       "      <td>Strat_Series</td>\n",
       "      <td>2</td>\n",
       "      <td>False</td>\n",
       "      <td>False</td>\n",
       "      <td>True</td>\n",
       "      <td>True</td>\n",
       "      <td>#9f0052</td>\n",
       "      <td>[[29.160000000000004, 365.78652999877926, 305....</td>\n",
       "      <td>[[2, 1, 0], [2, 0, 3], [3, 4, 2], [2, 4, 5], [...</td>\n",
       "      <td>0.21</td>\n",
       "      <td>2</td>\n",
       "    </tr>\n",
       "    <tr>\n",
       "      <th>2</th>\n",
       "      <td>basement</td>\n",
       "      <td>Strat_Series</td>\n",
       "      <td>3</td>\n",
       "      <td>True</td>\n",
       "      <td>False</td>\n",
       "      <td>True</td>\n",
       "      <td>True</td>\n",
       "      <td>#ffbe00</td>\n",
       "      <td>NaN</td>\n",
       "      <td>NaN</td>\n",
       "      <td>NaN</td>\n",
       "      <td>3</td>\n",
       "    </tr>\n",
       "  </tbody>\n",
       "</table>\n",
       "</div>"
      ],
      "text/plain": [
       "    surface        series  order_surfaces  isBasement isFault  isActive  \\\n",
       "0     Sand1  Strat_Series               1       False   False      True   \n",
       "1       Ton  Strat_Series               2       False   False      True   \n",
       "2  basement  Strat_Series               3        True   False      True   \n",
       "\n",
       "   hasData    color                                           vertices  \\\n",
       "0     True  #015482  [[29.160000000000004, 194.27877317428587, 305....   \n",
       "1     True  #9f0052  [[29.160000000000004, 365.78652999877926, 305....   \n",
       "2     True  #ffbe00                                                NaN   \n",
       "\n",
       "                                               edges sfai  id  \n",
       "0  [[2, 1, 0], [2, 0, 3], [3, 4, 2], [2, 4, 5], [... 0.26   1  \n",
       "1  [[2, 1, 0], [2, 0, 3], [3, 4, 2], [2, 4, 5], [... 0.21   2  \n",
       "2                                                NaN  NaN   3  "
      ]
     },
     "execution_count": 15,
     "metadata": {},
     "output_type": "execute_result"
    }
   ],
   "source": [
    "geo_model.surfaces.df"
   ]
  },
  {
   "cell_type": "markdown",
   "id": "c5cf249e",
   "metadata": {},
   "source": [
    "## Plotting the 3D Model"
   ]
  },
  {
   "cell_type": "code",
   "execution_count": 16,
   "id": "c712c928",
   "metadata": {
    "ExecuteTime": {
     "end_time": "2023-04-05T11:49:18.963683Z",
     "start_time": "2023-04-05T11:49:18.962680Z"
    }
   },
   "outputs": [
    {
     "name": "stderr",
     "output_type": "stream",
     "text": [
      "C:\\Users\\ale93371\\Anaconda3\\envs\\gempy_new8\\lib\\site-packages\\pyvista\\plotting\\_plotting.py:280: PyVistaDeprecationWarning: \n",
      "\"stitle\" is a deprecated keyword argument and will be removed in a future\n",
      "release.\n",
      "\n",
      "Use ``scalar_bar_args`` instead.  For example:\n",
      "\n",
      "scalar_bar_args={'title': 'Scalar Bar Title'}\n",
      "\n",
      "  warnings.warn(USE_SCALAR_BAR_ARGS, PyVistaDeprecationWarning)\n",
      "C:\\Users\\ale93371\\Anaconda3\\envs\\gempy_new8\\lib\\site-packages\\pyvista\\jupyter\\notebook.py:58: UserWarning: Failed to use notebook backend: \n",
      "\n",
      "No module named 'trame'\n",
      "\n",
      "Falling back to a static output.\n",
      "  warnings.warn(\n"
     ]
    },
    {
     "data": {
      "image/png": "[encoded data removed]",
      "text/plain": [
       "<PIL.Image.Image image mode=RGB size=1024x768>"
      ]
     },
     "metadata": {},
     "output_type": "display_data"
    }
   ],
   "source": [
    "gpv = gp.plot_3d(geo_model, image=False, show_topography=True,\n",
    "                 plotter_type='basic', notebook=True, show_lith=True)"
   ]
  },
  {
   "cell_type": "markdown",
   "id": "0cf96844",
   "metadata": {},
   "source": [
    "## Extracting Shapefiles from Gempy model"
   ]
  },
  {
   "cell_type": "markdown",
   "id": "33547e5f",
   "metadata": {
    "ExecuteTime": {
     "end_time": "2023-03-01T13:18:18.668043Z",
     "start_time": "2023-03-01T13:18:18.591590Z"
    }
   },
   "source": [
    "Using the following code we are able to download the custom sections and the geological map as shapefiles"
   ]
  },
  {
   "cell_type": "markdown",
   "id": "a418b664",
   "metadata": {},
   "source": [
    "### Extracting GemPy Section Lines as Shapefiles"
   ]
  },
  {
   "cell_type": "code",
   "execution_count": 17,
   "id": "26fadb92",
   "metadata": {
    "ExecuteTime": {
     "end_time": "2023-04-05T11:49:18.965681Z",
     "start_time": "2023-04-05T11:49:18.965681Z"
    }
   },
   "outputs": [],
   "source": [
    "from shapely.geometry import LineString\n",
    "gdf_sections = geo_model.grid.sections.df.copy(deep=True)\n",
    "gdf_sections.reset_index()\n",
    "linestrings = [LineString((gdf_sections.iloc[i]['start'],gdf_sections.iloc[i]['stop'] )) for i in range(len(gdf_sections))]\n",
    "gdf_sections_new = gpd.GeoDataFrame(geometry=linestrings, data= gdf_sections.reset_index()[['index']], crs='EPSG:32632')\n",
    "gdf_sections_new.to_file(file_path + 'test_sections.shp')"
   ]
  },
  {
   "cell_type": "markdown",
   "id": "8fd38e90",
   "metadata": {
    "ExecuteTime": {
     "end_time": "2023-03-01T13:16:07.509289Z",
     "start_time": "2023-03-01T13:16:07.492633Z"
    }
   },
   "source": [
    "### Extracting GemPy Geological Map Polygons as Shapefiles"
   ]
  },
  {
   "cell_type": "code",
   "execution_count": 18,
   "id": "ab2a0f69",
   "metadata": {
    "ExecuteTime": {
     "end_time": "2023-04-05T11:49:18.967683Z",
     "start_time": "2023-04-05T11:49:18.967683Z"
    }
   },
   "outputs": [],
   "source": [
    "gdf = gg.postprocessing.extract_lithologies(geo_model, geo_model.grid.regular_grid.extent[:4], crs='EPSG:32632')\n",
    "gdf.to_file(file_path + 'test.shp')"
   ]
  },
  {
   "cell_type": "markdown",
   "id": "8f1abae6",
   "metadata": {},
   "source": [
    "<img src=\"data/61_Exporting_geological_map_and_custom_sections_from_GemPy/test_files_QGIS.PNG\" width=700 />"
   ]
  }
 ],
 "metadata": {
  "hide_input": false,
  "kernelspec": {
   "display_name": "Python 3 (ipykernel)",
   "language": "python",
   "name": "python3"
  },
  "language_info": {
   "codemirror_mode": {
    "name": "ipython",
    "version": 3
   },
   "file_extension": ".py",
   "mimetype": "text/x-python",
   "name": "python",
   "nbconvert_exporter": "python",
   "pygments_lexer": "ipython3",
   "version": "3.9.15"
  },
  "varInspector": {
   "cols": {
    "lenName": 16,
    "lenType": 16,
    "lenVar": 40
   },
   "kernels_config": {
    "python": {
     "delete_cmd_postfix": "",
     "delete_cmd_prefix": "del ",
     "library": "var_list.py",
     "varRefreshCmd": "print(var_dic_list())"
    },
    "r": {
     "delete_cmd_postfix": ") ",
     "delete_cmd_prefix": "rm(",
     "library": "var_list.r",
     "varRefreshCmd": "cat(var_dic_list()) "
    }
   },
   "types_to_exclude": [
    "module",
    "function",
    "builtin_function_or_method",
    "instance",
    "_Feature"
   ],
   "window_display": false
  }
 },
 "nbformat": 4,
 "nbformat_minor": 5
}
